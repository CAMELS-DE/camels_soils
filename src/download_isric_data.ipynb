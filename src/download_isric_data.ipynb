{
 "cells": [
  {
   "cell_type": "markdown",
   "metadata": {},
   "source": [
    "# Download ISRIC soilgrids data\n",
    "\n",
    "This notebook is used to download the ISRIC raster data and stores them in `in/` as .tiff files."
   ]
  },
  {
   "cell_type": "code",
   "execution_count": 1,
   "metadata": {},
   "outputs": [],
   "source": [
    "import os\n",
    "\n",
    "from owslib.wcs import WebCoverageService"
   ]
  },
  {
   "cell_type": "code",
   "execution_count": 2,
   "metadata": {},
   "outputs": [],
   "source": [
    "variables = [\"sand\", \"silt\", \"clay\", \"bdod\", \"cfvo\", \"soc\"]"
   ]
  },
  {
   "cell_type": "code",
   "execution_count": 3,
   "metadata": {},
   "outputs": [],
   "source": [
    "# bbox of Germany (+ buffer)\n",
    "subsets = [('X', 1347207, 2452109), ('Y', 5194990, 6082404)]"
   ]
  },
  {
   "cell_type": "code",
   "execution_count": 4,
   "metadata": {},
   "outputs": [
    {
     "name": "stdout",
     "output_type": "stream",
     "text": [
      "sand --- Downloaded ['sand_0-5cm_mean.tiff', 'sand_5-15cm_mean.tiff', 'sand_15-30cm_mean.tiff', 'sand_30-60cm_mean.tiff', 'sand_60-100cm_mean.tiff', 'sand_100-200cm_mean.tiff']\n",
      "silt --- Downloaded ['silt_0-5cm_mean.tiff', 'silt_5-15cm_mean.tiff', 'silt_15-30cm_mean.tiff', 'silt_30-60cm_mean.tiff', 'silt_60-100cm_mean.tiff', 'silt_100-200cm_mean.tiff']\n",
      "clay --- Downloaded ['clay_0-5cm_mean.tiff', 'clay_5-15cm_mean.tiff', 'clay_15-30cm_mean.tiff', 'clay_30-60cm_mean.tiff', 'clay_60-100cm_mean.tiff', 'clay_100-200cm_mean.tiff']\n",
      "bdod --- Downloaded ['bdod_0-5cm_mean.tiff', 'bdod_5-15cm_mean.tiff', 'bdod_15-30cm_mean.tiff', 'bdod_30-60cm_mean.tiff', 'bdod_60-100cm_mean.tiff', 'bdod_100-200cm_mean.tiff']\n",
      "cfvo --- Downloaded ['cfvo_0-5cm_mean.tiff', 'cfvo_5-15cm_mean.tiff', 'cfvo_15-30cm_mean.tiff', 'cfvo_30-60cm_mean.tiff', 'cfvo_60-100cm_mean.tiff', 'cfvo_100-200cm_mean.tiff']\n",
      "soc --- Downloaded ['soc_0-5cm_mean.tiff', 'soc_5-15cm_mean.tiff', 'soc_15-30cm_mean.tiff', 'soc_30-60cm_mean.tiff', 'soc_60-100cm_mean.tiff', 'soc_100-200cm_mean.tiff']\n"
     ]
    }
   ],
   "source": [
    "for variable in variables:\n",
    "    # start the WCS service\n",
    "    wcs = WebCoverageService(f\"http://maps.isric.org/mapserv?map=/map/{variable}.map\", version=\"2.0.1\")\n",
    "\n",
    "    # get the coverage ids, only load the mean (there is also percentiles and uncertainty)\n",
    "    coverage_ids = [content for content in wcs.contents if variable in content and \"mean\" in content]\n",
    "\n",
    "    # create the variable folder to store .tiffs if it does not exist\n",
    "    if not os.path.exists(f\"../in/isric/{variable}\"):\n",
    "        os.makedirs(f\"../in/isric/{variable}\")\n",
    "\n",
    "    for coverage_id in coverage_ids:\n",
    "        # check if file already exists\n",
    "        if os.path.exists(f\"../in/isric/{variable}/{coverage_id}.tiff\"):\n",
    "            continue\n",
    "        \n",
    "        # get the response\n",
    "        response = wcs.getCoverage(\n",
    "            identifier=[coverage_id], \n",
    "            crs=\"http://www.opengis.net/def/crs/EPSG/0/152160\",\n",
    "            subsets=subsets, \n",
    "            resx=250, resy=250, \n",
    "            format=\"image/tiff\")\n",
    "        \n",
    "        # save the tiff file\n",
    "        with open(f\"../in/isric/{variable}/{coverage_id}.tiff\", \"wb\") as file:\n",
    "            file.write(response.read())\n",
    "\n",
    "    print(f\"{variable} --- Downloaded {[coverage_id + '.tiff' for coverage_id in coverage_ids]}\")"
   ]
  }
 ],
 "metadata": {
  "kernelspec": {
   "display_name": "base",
   "language": "python",
   "name": "python3"
  },
  "language_info": {
   "codemirror_mode": {
    "name": "ipython",
    "version": 3
   },
   "file_extension": ".py",
   "mimetype": "text/x-python",
   "name": "python",
   "nbconvert_exporter": "python",
   "pygments_lexer": "ipython3",
   "version": "3.11.7"
  }
 },
 "nbformat": 4,
 "nbformat_minor": 2
}
